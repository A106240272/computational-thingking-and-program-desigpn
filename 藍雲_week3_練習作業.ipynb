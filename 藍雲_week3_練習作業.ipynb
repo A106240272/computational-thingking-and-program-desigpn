{
  "nbformat": 4,
  "nbformat_minor": 0,
  "metadata": {
    "colab": {
      "name": "藍雲-week3-練習作業.ipynb",
      "provenance": [],
      "authorship_tag": "ABX9TyNaTi1SCh+Im62BSS6uv75Z",
      "include_colab_link": true
    },
    "kernelspec": {
      "name": "python3",
      "display_name": "Python 3"
    }
  },
  "cells": [
    {
      "cell_type": "markdown",
      "metadata": {
        "id": "view-in-github",
        "colab_type": "text"
      },
      "source": [
        "<a href=\"https://colab.research.google.com/github/A106240272/computational-thingking-and-program-desigpn/blob/main/%E8%97%8D%E9%9B%B2_week3_%E7%B7%B4%E7%BF%92%E4%BD%9C%E6%A5%AD.ipynb\" target=\"_parent\"><img src=\"https://colab.research.google.com/assets/colab-badge.svg\" alt=\"Open In Colab\"/></a>"
      ]
    },
    {
      "cell_type": "code",
      "metadata": {
        "id": "gFCjRgcLM4WJ"
      },
      "source": [
        ""
      ],
      "execution_count": null,
      "outputs": []
    },
    {
      "cell_type": "markdown",
      "metadata": {
        "id": "Kjms7AtqNvks"
      },
      "source": [
        "#隨堂練習"
      ]
    },
    {
      "cell_type": "code",
      "metadata": {
        "colab": {
          "base_uri": "https://localhost:8080/"
        },
        "id": "9_hGmxtkN_Xa",
        "outputId": "9f0ce351-e825-4b5e-d1ba-0ae3f97b5904"
      },
      "source": [
        "print(1+1)"
      ],
      "execution_count": 1,
      "outputs": [
        {
          "output_type": "stream",
          "text": [
            "2\n"
          ],
          "name": "stdout"
        }
      ]
    },
    {
      "cell_type": "code",
      "metadata": {
        "id": "RIkQe3cWOSaE"
      },
      "source": [
        ""
      ],
      "execution_count": null,
      "outputs": []
    },
    {
      "cell_type": "markdown",
      "metadata": {
        "id": "zctXO4sVPTFl"
      },
      "source": [
        "#課後練習\r\n",
        "課後練習則為從一則新聞報導，提出你對行管系學生為什麼要學「運算思維與程式設計」的見解。（告訴我新聞連結，以及你的觀點即可。）\r\n",
        "因為現在正是資訊時代，在日常生活中很多事物都是從程式語言轉換過來的，所以現在很多大學都開始上程式設計的課程。因此行管系學生要學運算思維與程式設計。"
      ]
    },
    {
      "cell_type": "markdown",
      "metadata": {
        "id": "QaSIdqhsYM7x"
      },
      "source": [
        "新聞連結:https://udn.com/news/story/6928/4665450"
      ]
    }
  ]
}