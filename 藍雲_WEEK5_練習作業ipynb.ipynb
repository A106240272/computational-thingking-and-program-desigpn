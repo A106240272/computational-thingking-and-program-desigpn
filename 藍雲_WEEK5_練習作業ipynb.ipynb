{
  "nbformat": 4,
  "nbformat_minor": 0,
  "metadata": {
    "colab": {
      "name": "藍雲-WEEK5-練習作業ipynb",
      "provenance": [],
      "authorship_tag": "ABX9TyMO7XqDa1elbqhdWe9PCb+s",
      "include_colab_link": true
    },
    "kernelspec": {
      "name": "python3",
      "display_name": "Python 3"
    },
    "language_info": {
      "name": "python"
    }
  },
  "cells": [
    {
      "cell_type": "markdown",
      "metadata": {
        "id": "view-in-github",
        "colab_type": "text"
      },
      "source": [
        "<a href=\"https://colab.research.google.com/github/A106240272/computational-thingking-and-program-desigpn/blob/main/%E8%97%8D%E9%9B%B2_WEEK5_%E7%B7%B4%E7%BF%92%E4%BD%9C%E6%A5%ADipynb.ipynb\" target=\"_parent\"><img src=\"https://colab.research.google.com/assets/colab-badge.svg\" alt=\"Open In Colab\"/></a>"
      ]
    },
    {
      "cell_type": "code",
      "metadata": {
        "id": "8YgaK88kd4Vv",
        "colab": {
          "base_uri": "https://localhost:8080/"
        },
        "outputId": "8c9e2162-8cd3-433a-aa7b-8301f8ec8084"
      },
      "source": [
        "sum=0\n",
        "apple=2\n",
        "peal=1\n",
        "peach=3\n",
        "banana=6\n",
        "sum = apple + peal + peach + banana\n",
        "last_fruit = \"香蕉\"\n",
        "print(\"這隻猴子總共摘了\", sum, \"個水果\")\n",
        "print(\"手中最後的水果是\", last_fruit)"
      ],
      "execution_count": 3,
      "outputs": [
        {
          "output_type": "stream",
          "text": [
            "這隻猴子總共摘了 12 個水果\n",
            "手中最後的水果是 香蕉\n"
          ],
          "name": "stdout"
        }
      ]
    },
    {
      "cell_type": "code",
      "metadata": {
        "colab": {
          "base_uri": "https://localhost:8080/"
        },
        "id": "WvNwyJvtEcwW",
        "outputId": "00684848-2773-4a2b-d61d-88180708c42a"
      },
      "source": [
        "print(bool(1))\n",
        "print(bool(0))\n",
        "print(bool(8))\n",
        "print(\"(1)不正確，因為在python中用0表示False,用1和其他非0整數表示True\")\n",
        "print(\"(2)在Python中，所有物件都可以進行布林測試\")\n"
      ],
      "execution_count": 9,
      "outputs": [
        {
          "output_type": "stream",
          "text": [
            "True\n",
            "False\n",
            "True\n",
            "(1)不正確，因為在python中用0表示False,用1和其他非0整數表示True\n",
            "(2)在Python中，所有物件都可以進行布林測試\n"
          ],
          "name": "stdout"
        }
      ]
    },
    {
      "cell_type": "markdown",
      "metadata": {
        "id": "knEavTMjfh82"
      },
      "source": [
        "##練習3:變數賦值，小猴子摘水果\n",
        " 有一天，一隻小猴子來到果園哩，牠走到蘋果樹下，看到滿樹的蘋果，就爬上去摘了2個。有看到不滿的地方有一個梨子樹，又大又黃，就丟掉蘋果，爬到梨子樹摘了一個梨子。正在準備吃的時候，看到前方又紅又大的陶子樹，就又高高興興地跑到桃樹上，摘了3個桃子。這時傳來小鳥的叫聲，鳥在香蕉樹上，當然就立馬飛奔去摘香蕉，最後吃了6根香蕉。請問這隻猴子摘了多少個水果，手中最後的水果是什麼?請你用python紀錄一下!"
      ]
    }
  ]
}