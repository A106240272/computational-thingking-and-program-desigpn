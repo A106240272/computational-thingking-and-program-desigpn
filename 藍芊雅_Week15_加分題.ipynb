{
  "nbformat": 4,
  "nbformat_minor": 0,
  "metadata": {
    "kernelspec": {
      "display_name": "Python 3",
      "language": "python",
      "name": "python3"
    },
    "language_info": {
      "codemirror_mode": {
        "name": "ipython",
        "version": 3
      },
      "file_extension": ".py",
      "mimetype": "text/x-python",
      "name": "python",
      "nbconvert_exporter": "python",
      "pygments_lexer": "ipython3",
      "version": "3.8.5"
    },
    "colab": {
      "name": "藍芊雅-Week15-加分題.ipynb",
      "provenance": [],
      "collapsed_sections": [],
      "include_colab_link": true
    }
  },
  "cells": [
    {
      "cell_type": "markdown",
      "metadata": {
        "id": "view-in-github",
        "colab_type": "text"
      },
      "source": [
        "<a href=\"https://colab.research.google.com/github/A106240272/computational-thingking-and-program-desigpn/blob/main/%E8%97%8D%E8%8A%8A%E9%9B%85_Week15_%E5%8A%A0%E5%88%86%E9%A1%8C.ipynb\" target=\"_parent\"><img src=\"https://colab.research.google.com/assets/colab-badge.svg\" alt=\"Open In Colab\"/></a>"
      ]
    },
    {
      "cell_type": "code",
      "metadata": {
        "colab": {
          "base_uri": "https://localhost:8080/"
        },
        "id": "yzooaBpC2o-V",
        "outputId": "09d92eff-4719-40ae-c2e4-8da96f88ab3e"
      },
      "source": [
        "## 解題1: 輸入遊戲情境相關資訊\n",
        "print(\"You are on a deserted island in a 2D world.\")\n",
        "print(\"Try to survive until rescue arrives!\")\n",
        "print(\"Available commands are in CAPITAL letters.\")\n",
        "print(\"Any other command exits the program\")\n",
        "print(\"First LOOK around...\")\n",
        "\n",
        "# 解題2: 先看看周圍，只有兩個指令的冒險旅程\n",
        "# 輸入指令指派給變數do\n",
        "do = input(\":: \")\n",
        "# 若輸入LOOK後提示後續指令\n",
        "if do == \"LOOK\": #要往哪爬\n",
        "  print(\"You are stuck in a sand ditch.\")\n",
        "  print(\"Crawl out LEFT or RIGHT.\")\n",
        "\n",
        "  # 輸入分支指令I-LEFT/RIGHT\n",
        "  do = input(\":: \")\n",
        "  if do == \"LEFT\": #輸入LEFT指令的分支\n",
        "    print(\"You see a STARFISH and a CRAB on the sand.\")\n",
        "    print(\"And you're hungry! Which do you eat?\")\n",
        "\n",
        "    # 輸入指令指派給變數do\n",
        "    do = input(\":: \") #要吃那個\n",
        "    if do == \"STARFISH\":  \n",
        "      print(\"Oh no! You immediately don't feel well.\")\n",
        "      print(\"You do not survive :(\")\n",
        "    elif do == \"CRAB\":\n",
        "      print(\"Raw crab should be fine, right? YES or NO.\")\n",
        "\n",
        "      # 輸入指令指派給變數do\n",
        "      do = input(\":: \") #要吃生螃蟹嗎？\n",
        "      if do == \"YES\":\n",
        "        print(\"Ok, You eat it raw. Fingers crossed.\")\n",
        "        print(\"Food in your belly helps you see a TREE.\")\n",
        "\n",
        "        # 輸入指令指派給變數do\n",
        "        do = input(\":: \") #看到一棵樹\n",
        "        if do == \"TREE\":\n",
        "          print(\"It's a coconut tree! And you're thirsty!\")\n",
        "          print(\"Do you drink the coconut water? YES or NO.\")\n",
        "\n",
        "          # 輸入指令指派給變數do\n",
        "          do = input(\":: \")# 喝椰子水嗎？\n",
        "          if do == \"YES\":\n",
        "            print(\"Oh boy. Coconut water and rawcrab don't mix.\")\n",
        "            print(\"You do not survive :(\")\n",
        "          elif do == \"NO\":\n",
        "            print(\"Good choice.\")\n",
        "            print(\"Look! It's a rescue plane! You made it! \\o/\")\n",
        "\n",
        "\n",
        "      elif do == \"NO\":\n",
        "        print(\"Well, there's nothing else left to eat.\")\n",
        "        print(\"You do not survive :(\")\n",
        "\n",
        "  elif do == \"RIGHT\": #輸入RIGHT指令的分支\n",
        "    print(\"No can do. That side is very slippery.\")\n",
        "    print(\"You fall very far into some weird cavern.\")\n",
        "    print(\"You do not survive :(\")\n",
        "\n",
        "else: #輸入提示外的指令，提醒重新輸入\n",
        "  print(\"You can only do actions shown in capital letters.\")\n",
        "  print(\"Try again!\")"
      ],
      "execution_count": 1,
      "outputs": [
        {
          "output_type": "stream",
          "text": [
            "You are on a deserted island in a 2D world.\n",
            "Try to survive until rescue arrives!\n",
            "Available commands are in CAPITAL letters.\n",
            "Any other command exits the program\n",
            "First LOOK around...\n",
            ":: LOOK\n",
            "You are stuck in a sand ditch.\n",
            "Crawl out LEFT or RIGHT.\n",
            ":: LEFT\n",
            "You see a STARFISH and a CRAB on the sand.\n",
            "And you're hungry! Which do you eat?\n",
            ":: CRAB\n",
            "Raw crab should be fine, right? YES or NO.\n",
            ":: YES\n",
            "Ok, You eat it raw. Fingers crossed.\n",
            "Food in your belly helps you see a TREE.\n",
            ":: TREE\n",
            "It's a coconut tree! And you're thirsty!\n",
            "Do you drink the coconut water? YES or NO.\n",
            ":: YES\n",
            "Oh boy. Coconut water and rawcrab don't mix.\n",
            "You do not survive :(\n"
          ],
          "name": "stdout"
        }
      ]
    }
  ]
}