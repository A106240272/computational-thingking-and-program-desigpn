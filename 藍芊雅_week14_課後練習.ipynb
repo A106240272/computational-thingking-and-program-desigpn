{
  "nbformat": 4,
  "nbformat_minor": 0,
  "metadata": {
    "colab": {
      "name": "藍芊雅-week14-課後練習.ipynb",
      "provenance": [],
      "authorship_tag": "ABX9TyOQJgRdRDd3BDOulRr3wp6n",
      "include_colab_link": true
    },
    "kernelspec": {
      "name": "python3",
      "display_name": "Python 3"
    },
    "language_info": {
      "name": "python"
    }
  },
  "cells": [
    {
      "cell_type": "markdown",
      "metadata": {
        "id": "view-in-github",
        "colab_type": "text"
      },
      "source": [
        "<a href=\"https://colab.research.google.com/github/A106240272/computational-thingking-and-program-desigpn/blob/main/%E8%97%8D%E8%8A%8A%E9%9B%85_week14_%E8%AA%B2%E5%BE%8C%E7%B7%B4%E7%BF%92.ipynb\" target=\"_parent\"><img src=\"https://colab.research.google.com/assets/colab-badge.svg\" alt=\"Open In Colab\"/></a>"
      ]
    },
    {
      "cell_type": "code",
      "metadata": {
        "colab": {
          "base_uri": "https://localhost:8080/"
        },
        "id": "hT44bUzl5ab0",
        "outputId": "aecb0c88-bd73-4369-f256-076d26d5c9a9"
      },
      "source": [
        "my_choice = int(input(\"請出拳 [0] 蟲 [1] 雞 [2] 老虎 [3] 棒子\"))\n",
        "print(\"你出的拳:\", my_choice)\n",
        "\n",
        "import random\n",
        "com_choice = random.randint(0, 3)\n",
        "print(\"電腦出拳為\", com_choice)\n",
        "\n",
        "#後面勝前面，其他平手\n",
        "if my_choice == (com_choice + 1) % 4:\n",
        "  print(\"我贏了\")\n",
        "elif com_choice ==(my_choice + 1) % 4:\n",
        "  print(\"電腦贏了\")\n",
        "else:\n",
        "  print(\"平手\")"
      ],
      "execution_count": 13,
      "outputs": [
        {
          "output_type": "stream",
          "text": [
            "請出拳 [0] 蟲 [1] 雞 [2] 老虎 [3] 棒子3\n",
            "你出的拳: 3\n",
            "電腦出拳為 3\n",
            "平手\n"
          ],
          "name": "stdout"
        }
      ]
    }
  ]
}