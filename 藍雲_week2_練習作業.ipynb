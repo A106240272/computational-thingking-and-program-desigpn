{
  "nbformat": 4,
  "nbformat_minor": 0,
  "metadata": {
    "colab": {
      "name": "藍雲-week2-練習作業.ipynb",
      "provenance": [],
      "authorship_tag": "ABX9TyPltlx2+9CBFIAWAr3qKb7j",
      "include_colab_link": true
    },
    "kernelspec": {
      "name": "python3",
      "display_name": "Python 3"
    }
  },
  "cells": [
    {
      "cell_type": "markdown",
      "metadata": {
        "id": "view-in-github",
        "colab_type": "text"
      },
      "source": [
        "<a href=\"https://colab.research.google.com/github/A106240272/computational-thingking-and-program-desigpn/blob/main/%E8%97%8D%E9%9B%B2_week2_%E7%B7%B4%E7%BF%92%E4%BD%9C%E6%A5%AD.ipynb\" target=\"_parent\"><img src=\"https://colab.research.google.com/assets/colab-badge.svg\" alt=\"Open In Colab\"/></a>"
      ]
    },
    {
      "cell_type": "code",
      "metadata": {
        "colab": {
          "base_uri": "https://localhost:8080/"
        },
        "id": "Zv-9PmYBTyWV",
        "outputId": "1068a0d4-ce94-4a3a-9b6d-e764dd42fc53"
      },
      "source": [
        "print(1+1)"
      ],
      "execution_count": 1,
      "outputs": [
        {
          "output_type": "stream",
          "text": [
            "2\n"
          ],
          "name": "stdout"
        }
      ]
    },
    {
      "cell_type": "code",
      "metadata": {
        "colab": {
          "base_uri": "https://localhost:8080/"
        },
        "id": "Q3k--AhIUPQV",
        "outputId": "3f9c0e8b-90ae-4a66-f358-ac19ddee50ae"
      },
      "source": [
        "print('Hello world')"
      ],
      "execution_count": 2,
      "outputs": [
        {
          "output_type": "stream",
          "text": [
            "Hello world\n"
          ],
          "name": "stdout"
        }
      ]
    }
  ]
}