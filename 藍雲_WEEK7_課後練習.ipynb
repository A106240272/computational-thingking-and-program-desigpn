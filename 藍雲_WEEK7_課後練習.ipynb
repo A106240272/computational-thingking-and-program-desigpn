{
  "nbformat": 4,
  "nbformat_minor": 0,
  "metadata": {
    "colab": {
      "name": "藍雲-WEEK7-課後練習.ipynb",
      "provenance": [],
      "authorship_tag": "ABX9TyMoLjasbPPv3VFdt+sYYoPV",
      "include_colab_link": true
    },
    "kernelspec": {
      "name": "python3",
      "display_name": "Python 3"
    },
    "language_info": {
      "name": "python"
    }
  },
  "cells": [
    {
      "cell_type": "markdown",
      "metadata": {
        "id": "view-in-github",
        "colab_type": "text"
      },
      "source": [
        "<a href=\"https://colab.research.google.com/github/A106240272/computational-thingking-and-program-desigpn/blob/main/%E8%97%8D%E9%9B%B2_WEEK7_%E8%AA%B2%E5%BE%8C%E7%B7%B4%E7%BF%92.ipynb\" target=\"_parent\"><img src=\"https://colab.research.google.com/assets/colab-badge.svg\" alt=\"Open In Colab\"/></a>"
      ]
    },
    {
      "cell_type": "code",
      "metadata": {
        "colab": {
          "base_uri": "https://localhost:8080/"
        },
        "id": "_HdZf0Pr66E2",
        "outputId": "3fa5ef33-7e70-49b8-be9f-659eec639a65"
      },
      "source": [
        "r1 = eval(input(\"輸入外圓直徑:\"))\n",
        "area1 = 3.14159 *((r1/2)**2)\n",
        "r2 = eval(input(\"輸入內圓直徑:\"))\n",
        "area2 = 3.14159 *((r2/2)**2)\n",
        "print(\"圓環面積:\" ,area1 - area2)\n"
      ],
      "execution_count": 1,
      "outputs": [
        {
          "output_type": "stream",
          "text": [
            "輸入外圓直徑:8\n",
            "輸入內圓直徑:7\n",
            "圓環面積: 11.780962500000001\n"
          ],
          "name": "stdout"
        }
      ]
    },
    {
      "cell_type": "code",
      "metadata": {
        "colab": {
          "base_uri": "https://localhost:8080/"
        },
        "id": "p0hlPJaL99NG",
        "outputId": "df9f0614-32d1-4b5a-aefc-4d131d802b46"
      },
      "source": [
        "feet = eval(input(\"請輸入幾尺？\"))\n",
        "inch = eval(input(\"請輸入幾吋？\"))\n",
        "print(\"轉換成 \" ,((feet * 12) + inch) * 2.54 , \"公分\")"
      ],
      "execution_count": 2,
      "outputs": [
        {
          "output_type": "stream",
          "text": [
            "請輸入幾尺？5\n",
            "請輸入幾吋？8\n",
            "轉換成  172.72 公分\n"
          ],
          "name": "stdout"
        }
      ]
    },
    {
      "cell_type": "code",
      "metadata": {
        "colab": {
          "base_uri": "https://localhost:8080/"
        },
        "id": "rAHNBD6tDecd",
        "outputId": "10004b60-21ca-471c-8374-92d81d899639"
      },
      "source": [
        "a = int(input(\"請輸入正整數 a=\"))\n",
        "b = int(input(\"請輸入正整數 b=\"))\n",
        "print(\"a=\" ,a , \"b=\", b)\n",
        "temp = a\n",
        "print(\"交換後 a=\" ,b , \"b=\", temp)"
      ],
      "execution_count": 5,
      "outputs": [
        {
          "output_type": "stream",
          "text": [
            "請輸入正整數 a=6\n",
            "請輸入正整數 b=8\n",
            "a= 6 b= 8\n",
            "交換後 a= 8 b= 6\n"
          ],
          "name": "stdout"
        }
      ]
    },
    {
      "cell_type": "code",
      "metadata": {
        "colab": {
          "base_uri": "https://localhost:8080/"
        },
        "id": "oT5iZ5BuE8Fz",
        "outputId": "448fa595-81c0-4474-cab6-55e9510120b7"
      },
      "source": [
        "cm1 = int(input(\"請輸入同學1原本有幾顆糖果:\"))\n",
        "cm2 = int(input(\"請輸入同學2原本有幾顆糖果:\"))\n",
        "cm3 = int(input(\"請輸入同學3原本有幾顆糖果:\"))\n",
        "cm4 = int(input(\"請輸入同學4原本有幾顆糖果:\"))\n",
        "cm5 = int(input(\"請輸入同學5原本有幾顆糖果:\"))\n",
        "cm6 = int(input(\"請輸入同學6原本有幾顆糖果:\"))\n",
        "div1 = cm1//3\n",
        "cm1 = div1\n",
        "cm2 = cm2 + div1\n",
        "cm6 = cm6 + div1\n",
        "div2 = cm2//3\n",
        "cm2 = div2\n",
        "cm1 = cm1 + div2\n",
        "cm3 = cm3 + div2\n",
        "div3 = cm3//3\n",
        "cm3 = div3\n",
        "cm2 = cm2 + div3\n",
        "cm4 = cm4 + div3\n",
        "div4 = cm4//3\n",
        "cm4 = div4\n",
        "cm3 = cm3 + div4\n",
        "cm5 = cm5 + div4\n",
        "div5 = cm5//3\n",
        "cm5 = div5\n",
        "cm4 = cm4 + div5\n",
        "cm6 = cm6 + div5\n",
        "div6 = cm6//3\n",
        "cm6 = div6\n",
        "cm1 = cm1 + div6\n",
        "cm5 = cm5 + div6\n",
        "print(\"同學1有\", cm1, \"糖果\")\n",
        "print(\"同學2有\", cm2, \"糖果\")\n",
        "print(\"同學3有\", cm3, \"糖果\")\n",
        "print(\"同學4有\", cm4, \"糖果\")\n",
        "print(\"同學5有\", cm5, \"糖果\")\n",
        "print(\"同學6有\", cm6, \"糖果\")"
      ],
      "execution_count": 6,
      "outputs": [
        {
          "output_type": "stream",
          "text": [
            "請輸入同學1原本有幾顆糖果:9\n",
            "請輸入同學2原本有幾顆糖果:12\n",
            "請輸入同學3原本有幾顆糖果:15\n",
            "請輸入同學4原本有幾顆糖果:19\n",
            "請輸入同學5原本有幾顆糖果:23\n",
            "請輸入同學6原本有幾顆糖果:28\n",
            "同學1有 21 糖果\n",
            "同學2有 11 糖果\n",
            "同學3有 14 糖果\n",
            "同學4有 18 糖果\n",
            "同學5有 23 糖果\n",
            "同學6有 13 糖果\n"
          ],
          "name": "stdout"
        }
      ]
    }
  ]
}