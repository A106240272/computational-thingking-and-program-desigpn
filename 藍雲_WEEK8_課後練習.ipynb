{
  "nbformat": 4,
  "nbformat_minor": 0,
  "metadata": {
    "colab": {
      "name": "藍雲-WEEK8-課後練習.ipynb",
      "provenance": [],
      "include_colab_link": true
    },
    "kernelspec": {
      "name": "python3",
      "display_name": "Python 3"
    },
    "language_info": {
      "name": "python"
    }
  },
  "cells": [
    {
      "cell_type": "markdown",
      "metadata": {
        "id": "view-in-github",
        "colab_type": "text"
      },
      "source": [
        "<a href=\"https://colab.research.google.com/github/A106240272/computational-thingking-and-program-desigpn/blob/main/%E8%97%8D%E9%9B%B2_WEEK8_%E8%AA%B2%E5%BE%8C%E7%B7%B4%E7%BF%92.ipynb\" target=\"_parent\"><img src=\"https://colab.research.google.com/assets/colab-badge.svg\" alt=\"Open In Colab\"/></a>"
      ]
    },
    {
      "cell_type": "code",
      "metadata": {
        "id": "4Cf0crxHY9QA",
        "colab": {
          "base_uri": "https://localhost:8080/"
        },
        "outputId": "d735da6c-4006-4650-f871-45e4d73fa830"
      },
      "source": [
        "#範例練習4-5: 賣場買飲料\n",
        "## Total = 200 * 幾打 ＋ 20 ＊ 罐\n",
        "## Input Data\n",
        "cans = int(input('請輸入購買飲料的罐數？')) #數字轉文字\n",
        "## Process\n",
        "total = (cans//12)*200 + (cans%12)*20\n",
        "## Output\n",
        "print('需花費', total)"
      ],
      "execution_count": null,
      "outputs": [
        {
          "output_type": "stream",
          "text": [
            "請輸入購買飲料的罐數？125\n",
            "需花費 2100\n"
          ],
          "name": "stdout"
        }
      ]
    },
    {
      "cell_type": "code",
      "metadata": {
        "colab": {
          "base_uri": "https://localhost:8080/"
        },
        "id": "wZvQAxGkYzqZ",
        "outputId": "1a80731a-cfd8-4f16-a735-06daddbed90d"
      },
      "source": [
        "#隨堂練習： 請計算NBA 史上最偉大的中鋒之一，「柴油引擎」俠客歐尼爾（Shaquille O’Neal）巔峰時期的BMI。\n",
        "player_name = input(\"請輸入球員姓名：\")\n",
        "player_height = input(\"請輸入球員身高（cm）：\")\n",
        "player_weight = input(\"請輸入球員體重（kg）：\")\n",
        " \n",
        "player_height = float(player_height)\n",
        "player_weight = float(player_weight)\n",
        "player_bmi = player_weight/(player_height*0.01)**2\n",
        " \n",
        "print(\"{}的身體質量指數為：{:.2f}\".format(player_name, player_bmi))\n",
        "print(player_name,'的身體質量指數為', player_bmi )"
      ],
      "execution_count": null,
      "outputs": [
        {
          "output_type": "stream",
          "text": [
            "請輸入球員姓名：Shaquille O’Neal\n",
            "請輸入球員身高（cm）：216\n",
            "請輸入球員體重（kg）：147\n",
            "Shaquille O’Neal的身體質量指數為：31.51\n",
            "Shaquille O’Neal 的身體質量指數為 31.507201646090532\n"
          ],
          "name": "stdout"
        }
      ]
    },
    {
      "cell_type": "code",
      "metadata": {
        "colab": {
          "base_uri": "https://localhost:8080/"
        },
        "id": "9M7pp7CeaMw5",
        "outputId": "7537efe7-3af1-42a2-d4b5-102679b883cc"
      },
      "source": [
        "#練習12：格式化輸出，明星檔案\n",
        "#用Python語言編制一個明星檔案，帶你認識創造Python程式語言的大神！\n",
        "\n",
        "##1. 維基百科資料庫找出創造Python程式語言大神的的相關資訊\n",
        "## 網址：https://zh.wikipedia.org/wiki/Python\n",
        "## 相關資訊：設計者、面市時間......\n",
        "\n",
        "## 2. 在Python用變數儲存資訊\n",
        "Language_Name = \"Python\"\n",
        "Creator = \"吉多·范羅蘇姆\"\n",
        "release_year = \"1991\"\n",
        "stable_version = \"3.9.4\"\n",
        "preview_version = \"3.10.0a7\"\n",
        "os = \"跨平台\"\n",
        "web_site = \"www.python.org\"\n",
        "\n",
        "## 3. 印出相關資訊\n",
        "print(Language_Name)  # 螢幕列印\n",
        "print(Creator)\n",
        "print(release_year)\n",
        "\n"
      ],
      "execution_count": null,
      "outputs": [
        {
          "output_type": "stream",
          "text": [
            "Python\n",
            "吉多·范羅蘇姆\n",
            "1991\n"
          ],
          "name": "stdout"
        }
      ]
    },
    {
      "cell_type": "code",
      "metadata": {
        "id": "GyWxSr8AhakN",
        "colab": {
          "base_uri": "https://localhost:8080/"
        },
        "outputId": "2faf8c0a-b919-4fef-f12b-03b5aea2a84d"
      },
      "source": [
        "#練習15：長跑健將\n",
        "#梁小星很喜歡運動，每天都堅持跑步5公里，為此他還買了一個手環。觀看手環可以記錄步數、距離、速度、時間等數據。\n",
        "#梁小星想用Python寫一個統計時間的程式，你可以幫幫他嗎？(06'32, 07'21, 05,51, 07'03, 05'48)\n",
        "\n",
        "## 1. 建立變數，輸入資料並儲存\n",
        "min1 = 6 ; sec1 = 32\n",
        "min2 = 7 ; sec2 = 21\n",
        "min3 = 5 ; sec3 = 51\n",
        "min4 = 7 ; sec4 = 3\n",
        "min5 = 5 ; sec5 = 48\n",
        "\n",
        "## 2. 變數分與秒轉換為秒數\n",
        "total_sec1 = min1 * 60 + sec1\n",
        "total_sec2 = min2 * 60 + sec2\n",
        "total_sec3 = min3 * 60 + sec3\n",
        "total_sec4 = min4 * 60 + sec4\n",
        "total_sec5 = min5 * 60 + sec5\n",
        "\n",
        "## 統計總秒數並轉換成分秒顯示時間\n",
        "total_sec = total_sec1 + total_sec2 + total_sec3 + total_sec4 + total_sec5\n",
        "min_result = total_sec // 60\n",
        "sec_result = total_sec % 60\n",
        "\n",
        " ## 3. 顯示結果\n",
        "print(\"Total time is\", total_sec, \"Second\") \n",
        "print(f\"{total_sec} second is equal to {min_result} Minutes and {sec_result} Second\")\n",
        "\n",
        "\n"
      ],
      "execution_count": 1,
      "outputs": [
        {
          "output_type": "stream",
          "text": [
            "Total time is 1955 Second\n",
            "1955 second is equal to 32 Minutes and 35 Second\n"
          ],
          "name": "stdout"
        }
      ]
    }
  ]
}