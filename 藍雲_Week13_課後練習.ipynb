{
  "nbformat": 4,
  "nbformat_minor": 0,
  "metadata": {
    "kernelspec": {
      "display_name": "Python 3",
      "language": "python",
      "name": "python3"
    },
    "language_info": {
      "codemirror_mode": {
        "name": "ipython",
        "version": 3
      },
      "file_extension": ".py",
      "mimetype": "text/x-python",
      "name": "python",
      "nbconvert_exporter": "python",
      "pygments_lexer": "ipython3",
      "version": "3.8.5"
    },
    "colab": {
      "name": "藍雲-Week13-課後練習.ipynb",
      "provenance": [],
      "collapsed_sections": [],
      "include_colab_link": true
    }
  },
  "cells": [
    {
      "cell_type": "markdown",
      "metadata": {
        "id": "view-in-github",
        "colab_type": "text"
      },
      "source": [
        "<a href=\"https://colab.research.google.com/github/A106240272/computational-thingking-and-program-desigpn/blob/main/%E8%97%8D%E9%9B%B2_Week13_%E8%AA%B2%E5%BE%8C%E7%B7%B4%E7%BF%92.ipynb\" target=\"_parent\"><img src=\"https://colab.research.google.com/assets/colab-badge.svg\" alt=\"Open In Colab\"/></a>"
      ]
    },
    {
      "cell_type": "markdown",
      "metadata": {
        "id": "ZLNeezQU2BjP"
      },
      "source": [
        "**隨堂練習1： BMI 計算**\n",
        "\n",
        "請寫一個程式讓使用者輸入身高與體重，顯示BMI 值與肥胖程度。 BMI 等於體重（KG）除以身高（M）的平方，而BMI 與肥胖分類標準如下：\n",
        "\n",
        "若BMI 值小於18，則顯示「體重過輕」，否則若BMI 值小於24，則顯示「體重正常」，若BMI 值小於27，則顯示「體重過重」，否則顯示「體重肥胖」。"
      ]
    },
    {
      "cell_type": "code",
      "metadata": {
        "colab": {
          "base_uri": "https://localhost:8080/"
        },
        "id": "PRY-KlKu2BjS",
        "outputId": "e9a54f36-239e-4a60-c7b4-171fac3871e8"
      },
      "source": [
        "w = float(input('請輸入體重(KG)?請輸入體重(KG)?'))\n",
        "h = float(input('請輸入身高(M)?'))\n",
        "bmi = w/(h*h)\n",
        "print('BMI為，bmi')\n",
        "if bmi < 18:\n",
        "  print('體重過輕')\n",
        "elif bmi < 24:\n",
        "  print('體重正常')\n",
        "elif bmi < 27:\n",
        "  print('體重過重')\n",
        "else:\n",
        "  print('體重肥胖')"
      ],
      "execution_count": null,
      "outputs": [
        {
          "output_type": "stream",
          "text": [
            "請輸入體重(KG)?請輸入體重(KG)?64\n",
            "請輸入身高(M)?161\n",
            "BMI為，bmi\n",
            "體重過輕\n"
          ],
          "name": "stdout"
        }
      ]
    },
    {
      "cell_type": "markdown",
      "metadata": {
        "id": "dGyY2kUX2BjS"
      },
      "source": [
        "**隨堂練習2： 三一律(單向選擇、雙向與巢狀選擇、多向選擇)**\n",
        "\n",
        "請輸入一個數，然後判斷這個數是正數、是負數或者是零。"
      ]
    },
    {
      "cell_type": "code",
      "metadata": {
        "colab": {
          "base_uri": "https://localhost:8080/"
        },
        "id": "givMawje2BjT",
        "outputId": "35230269-bf6a-4b69-bcea-3002ccd7439d"
      },
      "source": [
        "num = int(input(\"Pick a number:\"))\n",
        "if num > 0:\n",
        "  print(\"Your number is positive.\")\n",
        "if num < 0:\n",
        "  print(\"Your number is negative.\")\n",
        "if num == 0:\n",
        "  print(\"Your number is zero\")\n",
        "print(\"Finished\")"
      ],
      "execution_count": null,
      "outputs": [
        {
          "output_type": "stream",
          "text": [
            "Pick a number:-5\n",
            "Your number is negative.\n",
            "Finished\n"
          ],
          "name": "stdout"
        }
      ]
    },
    {
      "cell_type": "markdown",
      "metadata": {
        "id": "WvSnKWWg2BjT"
      },
      "source": [
        "**練習5   體溫與發燒**\n",
        "\n",
        "設計程式根據體溫判斷是否發燒，由使用者輸入體溫，程式判斷是否發燒，假設體溫小於36度，顯示「體溫過低」，體溫大於等於36度小於38度，顯示「體溫正常」，否則若體溫大於等於38度小於39度，顯示「體溫有點燒」，否則體溫大於等於39度，顯示「體溫很燒」。\n",
        "\n",
        "輸入體溫「36.5」，輸出為「體溫正常」。\n",
        "\n",
        "～程式執行結果如下。\n",
        "\n",
        "請輸入體溫？36.5\n",
        "\n",
        "體溫正常"
      ]
    },
    {
      "cell_type": "code",
      "metadata": {
        "id": "I7yLOnsz2BjT",
        "colab": {
          "base_uri": "https://localhost:8080/"
        },
        "outputId": "b17aa1e3-c874-4d6d-8b8b-55341d60243e"
      },
      "source": [
        "temp = float(input('請輸入體溫度數?'))\n",
        "if temp < 36 :\n",
        "  print(\"體溫過低\")\n",
        "elif (temp >= 36 and temp < 38):\n",
        "  print(\"體溫正常\")\n",
        "elif (temp >= 38 and temp < 39):\n",
        "  print(\"體溫有點燒\")\n",
        "else:\n",
        "  print(\"體溫很燒\")"
      ],
      "execution_count": null,
      "outputs": [
        {
          "output_type": "stream",
          "text": [
            "請輸入體溫度數?40\n",
            "體溫很燒\n"
          ],
          "name": "stdout"
        }
      ]
    },
    {
      "cell_type": "markdown",
      "metadata": {
        "id": "WPJXAKsd2BjT"
      },
      "source": [
        "**練習6  閏年判斷**\n",
        "\n",
        "設計程式允許輸入西元幾年，請求出該年是否是閏年，閏年表示該年多一天，若為4的倍數稱做閏年，但若為100的倍數就不為閏年，且若為400倍數又是閏年。(四年一潤、百年不潤、四百年再潤)\n",
        "\n",
        "輸入年份「2012」，輸出為「2012是閏年」。\n",
        "\n",
        "～程式執行結果如下。\n",
        "\n",
        "請輸入年份？2012\n",
        "\n",
        "2012 是閏年"
      ]
    },
    {
      "cell_type": "code",
      "metadata": {
        "id": "g8DYReka2BjU",
        "colab": {
          "base_uri": "https://localhost:8080/"
        },
        "outputId": "4b73ea34-6e9c-4347-cb60-9c3c036c8886"
      },
      "source": [
        "year = int(input('請輸入年份?'))\n",
        "if ((year % 400) == 0):\n",
        "  print(year, \"是閏年\")\n",
        "elif ((year % 100) == 0):\n",
        "  print(year, \"不是閏年\")\n",
        "elif((year % 4) == 0):\n",
        "  print(year, \"是閏年\")\n",
        "else:\n",
        "  print(year,\"不是閏年\")"
      ],
      "execution_count": null,
      "outputs": [
        {
          "output_type": "stream",
          "text": [
            "請輸入年份?1900\n",
            "1900 不是閏年\n"
          ],
          "name": "stdout"
        }
      ]
    },
    {
      "cell_type": "markdown",
      "metadata": {
        "id": "IENmeZ_I2BjU"
      },
      "source": [
        "**練習12：計程車計費**\n",
        "\n",
        "某城市計程車計費3公里以內6元，超過3公里不足10公里、每公里1.8元，超過10公里則超過部分加收50%。此外停車等候每3分鐘收1元，請用Python寫出車費是多少。"
      ]
    },
    {
      "cell_type": "code",
      "metadata": {
        "id": "CAOa27wH2BjU",
        "colab": {
          "base_uri": "https://localhost:8080/"
        },
        "outputId": "38034a05-23ad-47cb-a35d-55d68afd6425"
      },
      "source": [
        "distance = float(input('請輸入計程車計費期間的行駛距離公里數?'))\n",
        "waiting = float(input('請輸入計程車計費期間的停車等候時間分鐘數)?'))\n",
        "if distance < 3 :\n",
        "  distance_fee = 6\n",
        "elif (distance >= 3 and distance < 10):\n",
        "  distance_fee = 6 + (((distance - 3) // 1) * 1.8)\n",
        "else:\n",
        "  distance_fee = 6 + (7 * 1.8) + (((distance - 10) // 1) * 1.8 * 1.5)\n",
        "\n",
        "if waiting < 3 :\n",
        "  print(f\"計程車車費是{distance_fee}元\")\n",
        "else:\n",
        "  print(f\"計程車車費是{distance_fee + (waiting // 3)}元\")\n"
      ],
      "execution_count": null,
      "outputs": [
        {
          "output_type": "stream",
          "text": [
            "請輸入計程車計費期間的行駛距離公里數?20.5\n",
            "請輸入計程車計費期間的停車等候時間分鐘數)?20\n",
            "計程車車費是51.6元\n"
          ],
          "name": "stdout"
        }
      ]
    }
  ]
}